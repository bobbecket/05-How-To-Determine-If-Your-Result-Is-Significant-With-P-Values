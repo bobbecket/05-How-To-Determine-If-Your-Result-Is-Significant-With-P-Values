{
 "cells": [
  {
   "cell_type": "markdown",
   "metadata": {},
   "source": [
    "### How To Determine If Your Result Is Significant With P-Values\n",
    "\n",
    "To illustrate how \"P-Value\" can reflect a \"statistically significant result\", let's compare two made-up data sets which could represent test scores from two groups of students: \"Group A\" and \"Group B\".\n",
    "\n",
    "In our first example, we'll make both groups more-or-less the same. We'll set the scores to have a mean of 80.0 and a standard deviation of 5.0."
   ]
  },
  {
   "cell_type": "code",
   "execution_count": 165,
   "metadata": {},
   "outputs": [],
   "source": [
    "import numpy as np\n",
    "from scipy import stats\n",
    "\n",
    "np.random.seed(0)\n",
    "\n",
    "GroupA = np.random.normal(80.0, 5.0, 10000)\n",
    "GroupB = np.random.normal(80.0, 5.0, 10000)"
   ]
  },
  {
   "cell_type": "markdown",
   "metadata": {},
   "source": [
    "Now let's run a \"T Test\" comparison of these two groups"
   ]
  },
  {
   "cell_type": "code",
   "execution_count": 166,
   "metadata": {},
   "outputs": [
    {
     "data": {
      "text/plain": [
       "Ttest_indResult(statistic=-2.1006829688864586, pvalue=0.03568129225829572)"
      ]
     },
     "execution_count": 166,
     "metadata": {},
     "output_type": "execute_result"
    }
   ],
   "source": [
    "stats.ttest_ind(GroupA, GroupB)"
   ]
  },
  {
   "cell_type": "markdown",
   "metadata": {},
   "source": [
    "The typical P-Value benchmark for \"significant\" is 0.05 or less.\n",
    "\n",
    "Because these two data sets are extremely similar, we'd expect their variance to be negligible, thus yielding a relatively high P-Value, and it is!\n",
    "\n",
    "Now let's modify \"GroupB\" significantly (set its mean to 90.0) to see what effect it has on the P-Value."
   ]
  },
  {
   "cell_type": "code",
   "execution_count": 167,
   "metadata": {
    "scrolled": true
   },
   "outputs": [
    {
     "data": {
      "text/plain": [
       "Ttest_indResult(statistic=-143.40504093834417, pvalue=0.0)"
      ]
     },
     "execution_count": 167,
     "metadata": {},
     "output_type": "execute_result"
    }
   ],
   "source": [
    "GroupB = np.random.normal(90.0, 5.0, 10000)\n",
    "\n",
    "stats.ttest_ind(GroupA, GroupB)"
   ]
  },
  {
   "cell_type": "markdown",
   "metadata": {},
   "source": [
    "Now, as you can see, the P-Value is zero (or close to zero), which we'd expect given the significant variance between the scores of \"GroupA\" compared to \"GroupB\".\n",
    "\n",
    "How \"far off\" would GroupB's scores need to be to be significant?\n",
    "\n",
    "Let's experiment with a few more mean values for GroupB to find out...\n",
    "\n",
    "How about a mean of 81?"
   ]
  },
  {
   "cell_type": "code",
   "execution_count": 168,
   "metadata": {},
   "outputs": [
    {
     "data": {
      "text/plain": [
       "Ttest_indResult(statistic=-15.330786385308228, pvalue=9.503703992265122e-53)"
      ]
     },
     "execution_count": 168,
     "metadata": {},
     "output_type": "execute_result"
    }
   ],
   "source": [
    "GroupB = np.random.normal(81, 5.0, 10000)\n",
    "\n",
    "stats.ttest_ind(GroupA, GroupB)"
   ]
  },
  {
   "cell_type": "markdown",
   "metadata": {},
   "source": [
    "Definitely significant!\n",
    "\n",
    "How about 80.04?"
   ]
  },
  {
   "cell_type": "code",
   "execution_count": 169,
   "metadata": {},
   "outputs": [
    {
     "data": {
      "text/plain": [
       "Ttest_indResult(statistic=-1.6093623533010133, pvalue=0.10755291633999715)"
      ]
     },
     "execution_count": 169,
     "metadata": {},
     "output_type": "execute_result"
    }
   ],
   "source": [
    "GroupB = np.random.normal(80.04, 5.0, 10000)\n",
    "\n",
    "stats.ttest_ind(GroupA, GroupB)"
   ]
  },
  {
   "cell_type": "markdown",
   "metadata": {},
   "source": [
    "Hmmm... Not quite significant enough.\n",
    "\n",
    "Let's try 80.05."
   ]
  },
  {
   "cell_type": "code",
   "execution_count": 170,
   "metadata": {},
   "outputs": [
    {
     "data": {
      "text/plain": [
       "Ttest_indResult(statistic=-2.3964267322383854, pvalue=0.016564929367500408)"
      ]
     },
     "execution_count": 170,
     "metadata": {},
     "output_type": "execute_result"
    }
   ],
   "source": [
    "GroupB = np.random.normal(80.05, 5.0, 10000)\n",
    "\n",
    "stats.ttest_ind(GroupA, GroupB)"
   ]
  },
  {
   "cell_type": "markdown",
   "metadata": {},
   "source": [
    "This p-value meets our criteria of \"significant at 0.05 or less\", so we can say with confidence that as the mean value of GroupB starts heading above 80.05, the difference between GroupB and GroupA becomes statistically significant."
   ]
  }
 ],
 "metadata": {
  "kernelspec": {
   "display_name": "Python 3",
   "language": "python",
   "name": "python3"
  },
  "language_info": {
   "codemirror_mode": {
    "name": "ipython",
    "version": 3
   },
   "file_extension": ".py",
   "mimetype": "text/x-python",
   "name": "python",
   "nbconvert_exporter": "python",
   "pygments_lexer": "ipython3",
   "version": "3.7.3"
  }
 },
 "nbformat": 4,
 "nbformat_minor": 2
}
